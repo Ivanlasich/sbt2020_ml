{
  "nbformat": 4,
  "nbformat_minor": 0,
  "metadata": {
    "anaconda-cloud": {},
    "kernelspec": {
      "display_name": "Python 3",
      "language": "python",
      "name": "python3"
    },
    "language_info": {
      "codemirror_mode": {
        "name": "ipython",
        "version": 3
      },
      "file_extension": ".py",
      "mimetype": "text/x-python",
      "name": "python",
      "nbconvert_exporter": "python",
      "pygments_lexer": "ipython3",
      "version": "3.4.3"
    },
    "colab": {
      "name": "my_svm.ipynb",
      "provenance": []
    }
  },
  "cells": [
    {
      "cell_type": "markdown",
      "metadata": {
        "id": "lkCR1oqwmB2v"
      },
      "source": [
        "# Линейный SVM \"своими руками\""
      ]
    },
    {
      "cell_type": "markdown",
      "metadata": {
        "id": "oOlIdB0WmB21"
      },
      "source": [
        "## Генерируем обучающую и тестовую выборку для экспериментов"
      ]
    },
    {
      "cell_type": "code",
      "metadata": {
        "id": "qb-Emzz4mB23",
        "outputId": "d35363c1-5b04-416e-9aef-1f5fdd5ba153",
        "colab": {
          "base_uri": "https://localhost:8080/",
          "height": 50
        }
      },
      "source": [
        "from sklearn.model_selection import train_test_split\n",
        "from sklearn import datasets\n",
        "\n",
        "X, y = datasets.make_classification(\n",
        "    n_samples=10000, n_features=20, \n",
        "    n_classes=2, n_informative=20, \n",
        "    n_redundant=0,\n",
        "    random_state=42\n",
        ")\n",
        "\n",
        "X_train, X_test, y_train, y_test = train_test_split(\n",
        "    X, y, \n",
        "    test_size=0.2,\n",
        "    random_state=42\n",
        ")\n",
        "\n",
        "print(len(X), len(y))\n",
        "print(len(X_train))"
      ],
      "execution_count": 224,
      "outputs": [
        {
          "output_type": "stream",
          "text": [
            "10000 10000\n",
            "8000\n"
          ],
          "name": "stdout"
        }
      ]
    },
    {
      "cell_type": "markdown",
      "metadata": {
        "id": "GOywvxMJmB3D"
      },
      "source": [
        "## Пишем свой класс для SVM"
      ]
    },
    {
      "cell_type": "code",
      "metadata": {
        "id": "mZsxgBMkmB3E"
      },
      "source": [
        "import numpy as np\n",
        "from random import randint\n",
        "import random\n",
        "import pdb; \n",
        "\n",
        "\n",
        "np.random.seed(42)\n",
        "random.seed(42)\n",
        "\n",
        "\n",
        "class MySVM(object):\n",
        "    def __init__(self, C=10000):\n",
        "        self.C = C # regularization constant\n",
        "\n",
        "    # f(x) = <w,x> + w_0\n",
        "    def f(self, x):\n",
        "        return np.dot(self.w, x) + self.w0\n",
        "\n",
        "    # a(x) = [f(x) > 0]\n",
        "    def a(self, x):\n",
        "        return 1 if self.f(x) > 0 else 0\n",
        "    \n",
        "    # predicting answers for X_test\n",
        "    def predict(self, X_test):\n",
        "        return np.array([model.a(x) for x in X_test])\n",
        "\n",
        "    # l2-regularizator\n",
        "    def reg(self):\n",
        "        return 1.0 * sum(self.w ** 2) / (2.0 * self.C)\n",
        "\n",
        "    # l2-regularizator derivative\n",
        "    def der_reg(self):\n",
        "        '''ToDo: fix this function'''\n",
        "        return 1.0 * (self.w ) / (self.C)  \n",
        "\n",
        "    # hinge loss\n",
        "    def loss(self, x, answer):\n",
        "        return max([0, 1 - answer * self.f(x)])\n",
        "\n",
        "    # hinge loss derivative\n",
        "    def der_loss(self, x, answer):\n",
        "        '''ToDo: fix this function'''\n",
        "        #pdb.set_trace()\n",
        "        return -1 if (answer * self.f(x)) < 1 else 0\n",
        "\n",
        "\n",
        "\n",
        "    # fitting w and w_0 with SGD\n",
        "    def fit(self, X_train, y_train):\n",
        "        dim = len(X_train[0])\n",
        "        self.w = np.random.rand(dim) # initial value for w\n",
        "        self.w0 = np.random.randn() # initial value for w_0\n",
        "        \n",
        "        # 10000 steps is OK for this example\n",
        "        # another variant is to continue iterations while error is still decreasing\n",
        "        for k in range(10000):  \n",
        "            \n",
        "            # random example choise\n",
        "            rand_index = randint(0, len(X_train) - 1) # generating random index\n",
        "            x = X_train[rand_index]\n",
        "            y = y_train[rand_index]\n",
        "\n",
        "            # simple heuristic for step size\n",
        "            step = 0.5 * 0.9 ** k\n",
        "\n",
        "            # w update\n",
        "            '''ToDo: add w update with regularization'''\n",
        "\n",
        "            self.w -= step * ( x * y * self.der_loss(x, y) + self.der_reg())\n",
        "            \n",
        "            # w_0 update\n",
        "            '''ToDo: add w_0 update'''\n",
        "            self.w0 -= step  * ( y * self.der_loss(x, y))"
      ],
      "execution_count": 225,
      "outputs": []
    },
    {
      "cell_type": "code",
      "metadata": {
        "id": "ka3kYMewHofD"
      },
      "source": [
        "def custom_grid_search(Model, X_train, y_train, X_test, y_test):\n",
        "  maximum = 0\n",
        "  parametr = 0\n",
        "  for k in range(1, 100):\n",
        "    model = Model\n",
        "    model.C = k\n",
        "    model.fit(X_train, y_train)\n",
        "    predictions = model.predict(X_test)\n",
        "    val = sum(predictions == y_test) / float(len(y_test))\n",
        "    if (maximum < val):\n",
        "      maximum = val\n",
        "      parametr = k\n",
        "\n",
        "  return maximum, k"
      ],
      "execution_count": 226,
      "outputs": []
    },
    {
      "cell_type": "markdown",
      "metadata": {
        "id": "yJa7BwrwmB3L"
      },
      "source": [
        "## Пробуем обучить наш классификатор и посмотреть на качество на тесте"
      ]
    },
    {
      "cell_type": "code",
      "metadata": {
        "id": "E_Plh44OmB3M",
        "outputId": "fc8a3c04-a8a4-4ef2-b532-171dc6ae3a65",
        "colab": {
          "base_uri": "https://localhost:8080/",
          "height": 84
        }
      },
      "source": [
        "\n",
        "np.random.seed(42)\n",
        "random.seed(42)\n",
        "model = MySVM()\n",
        "model.fit(X_train, y_train)\n",
        "print(model.w, model.w0)"
      ],
      "execution_count": 227,
      "outputs": [
        {
          "output_type": "stream",
          "text": [
            "[-0.41072476  2.00505075  1.44069389  2.24268029  1.27190709  1.56290024\n",
            " -1.86694366 -0.33587805  0.04937335 -2.05935721 -0.92790213 -0.6932886\n",
            "  1.5016486  -2.44691788 -1.62891772 -0.05627495  0.34800167  4.77037398\n",
            "  2.3199871   0.31126646] -0.8289694298107237\n"
          ],
          "name": "stdout"
        }
      ]
    },
    {
      "cell_type": "code",
      "metadata": {
        "id": "yQ-Jrch-mB3T"
      },
      "source": [
        "predictions = model.predict(X_test)"
      ],
      "execution_count": 228,
      "outputs": []
    },
    {
      "cell_type": "code",
      "metadata": {
        "id": "ZVT5N9Y2mB3Z",
        "outputId": "669e591b-9bea-4fc5-ef0b-7e8bc9534466",
        "colab": {
          "base_uri": "https://localhost:8080/",
          "height": 34
        }
      },
      "source": [
        "print(predictions)"
      ],
      "execution_count": 229,
      "outputs": [
        {
          "output_type": "stream",
          "text": [
            "[0 1 0 ... 1 1 1]\n"
          ],
          "name": "stdout"
        }
      ]
    },
    {
      "cell_type": "code",
      "metadata": {
        "id": "fqYxxz6xmB3g",
        "outputId": "7f5f3020-2a96-4e05-ef96-f0175cc2a92a",
        "colab": {
          "base_uri": "https://localhost:8080/",
          "height": 34
        }
      },
      "source": [
        "print(y_test, len(y_test), sum(y_test))"
      ],
      "execution_count": 230,
      "outputs": [
        {
          "output_type": "stream",
          "text": [
            "[1 0 1 ... 1 0 1] 2000 991\n"
          ],
          "name": "stdout"
        }
      ]
    },
    {
      "cell_type": "code",
      "metadata": {
        "id": "X76Q1ptNmB3o",
        "outputId": "91fca6fb-2b23-4d86-ce5c-bda50f1c014f",
        "colab": {
          "base_uri": "https://localhost:8080/",
          "height": 34
        }
      },
      "source": [
        "print(len(predictions), sum(predictions))"
      ],
      "execution_count": 231,
      "outputs": [
        {
          "output_type": "stream",
          "text": [
            "2000 1186\n"
          ],
          "name": "stdout"
        }
      ]
    },
    {
      "cell_type": "code",
      "metadata": {
        "id": "QuRjEOesmB3t",
        "outputId": "1c824fff-f61e-4adb-c122-d339638ff6f3",
        "colab": {
          "base_uri": "https://localhost:8080/",
          "height": 34
        }
      },
      "source": [
        "print(sum(predictions == y_test) / float(len(y_test)))"
      ],
      "execution_count": 232,
      "outputs": [
        {
          "output_type": "stream",
          "text": [
            "0.6085\n"
          ],
          "name": "stdout"
        }
      ]
    },
    {
      "cell_type": "code",
      "metadata": {
        "id": "61acWuUE1dIS"
      },
      "source": [
        "accuracy_max, C_max = custom_grid_search(model, X_train, y_train, X_test, y_test)"
      ],
      "execution_count": 233,
      "outputs": []
    },
    {
      "cell_type": "code",
      "metadata": {
        "id": "xKDrvkp32NwC",
        "outputId": "1c13d52d-ee02-477c-f22b-dbfa29e4e073",
        "colab": {
          "base_uri": "https://localhost:8080/",
          "height": 34
        }
      },
      "source": [
        "\n",
        "print(accuracy)"
      ],
      "execution_count": 234,
      "outputs": [
        {
          "output_type": "stream",
          "text": [
            "0.7265\n"
          ],
          "name": "stdout"
        }
      ]
    },
    {
      "cell_type": "markdown",
      "metadata": {
        "collapsed": true,
        "id": "BnyusC-rmB3z"
      },
      "source": [
        "## Задания:\n",
        "\n",
        "### - Допишите недостающие функции в MySVM (производные и обновление весов)\n",
        "\n",
        "### - Сравните качество с sklearn LinearSVC"
      ]
    },
    {
      "cell_type": "markdown",
      "metadata": {
        "id": "YpxnuS9G3sTZ"
      },
      "source": [
        "Сравним c моделью из sklearn"
      ]
    },
    {
      "cell_type": "code",
      "metadata": {
        "id": "x-pZIov_5pHE",
        "outputId": "1c061181-379a-4fbf-921a-d5109083ad63",
        "colab": {
          "base_uri": "https://localhost:8080/",
          "height": 218
        }
      },
      "source": [
        "from sklearn.svm import LinearSVC\n",
        "from sklearn.pipeline import make_pipeline\n",
        "from sklearn.preprocessing import StandardScaler\n",
        "from sklearn.datasets import make_classification\n",
        "\n",
        "clf = make_pipeline(StandardScaler(), LinearSVC(random_state=42, tol=1e-5))\n",
        "clf.fit(X_train, y_train)"
      ],
      "execution_count": 221,
      "outputs": [
        {
          "output_type": "stream",
          "text": [
            "/usr/local/lib/python3.6/dist-packages/sklearn/svm/_base.py:947: ConvergenceWarning: Liblinear failed to converge, increase the number of iterations.\n",
            "  \"the number of iterations.\", ConvergenceWarning)\n"
          ],
          "name": "stderr"
        },
        {
          "output_type": "execute_result",
          "data": {
            "text/plain": [
              "Pipeline(memory=None,\n",
              "         steps=[('standardscaler',\n",
              "                 StandardScaler(copy=True, with_mean=True, with_std=True)),\n",
              "                ('linearsvc',\n",
              "                 LinearSVC(C=1.0, class_weight=None, dual=True,\n",
              "                           fit_intercept=True, intercept_scaling=1,\n",
              "                           loss='squared_hinge', max_iter=1000,\n",
              "                           multi_class='ovr', penalty='l2', random_state=42,\n",
              "                           tol=1e-05, verbose=0))],\n",
              "         verbose=False)"
            ]
          },
          "metadata": {
            "tags": []
          },
          "execution_count": 221
        }
      ]
    },
    {
      "cell_type": "code",
      "metadata": {
        "id": "mypYbSph4ulZ"
      },
      "source": [
        "predictions = clf.predict(X_test)"
      ],
      "execution_count": 222,
      "outputs": []
    },
    {
      "cell_type": "code",
      "metadata": {
        "id": "3xxoSCg05Fmb",
        "outputId": "5b9823b5-9811-435c-9557-eb049a40ff9d",
        "colab": {
          "base_uri": "https://localhost:8080/",
          "height": 34
        }
      },
      "source": [
        "print(sum(predictions == y_test) / float(len(y_test)))"
      ],
      "execution_count": 223,
      "outputs": [
        {
          "output_type": "stream",
          "text": [
            "0.7965\n"
          ],
          "name": "stdout"
        }
      ]
    },
    {
      "cell_type": "markdown",
      "metadata": {
        "id": "8iSzSxsg5RGn"
      },
      "source": [
        "Видно, что sklearn LinearSVC показывает качество лучше чем MySVM."
      ]
    }
  ]
}